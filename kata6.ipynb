{
 "cells": [
  {
   "cell_type": "code",
   "execution_count": 6,
   "metadata": {},
   "outputs": [
    {
     "name": "stdout",
     "output_type": "stream",
     "text": [
      "Mercury\n",
      "Venus\n",
      "Earth\n",
      "Mars\n",
      "Jupiter\n",
      "Saturn\n",
      "Neptune\n",
      "\n",
      "Pluton\n"
     ]
    }
   ],
   "source": [
    "planets = ['Mercury', 'Venus', 'Earth', 'Mars', 'Jupiter', 'Saturn', 'Neptune']\n",
    "\n",
    "for planet in planets:\n",
    "    print(planet)\n",
    "\n",
    "print()\n",
    "\n",
    "planets.append('Pluton')\n",
    "\n",
    "print(planets[-1])"
   ]
  },
  {
   "cell_type": "code",
   "execution_count": 15,
   "metadata": {},
   "outputs": [
    {
     "name": "stdout",
     "output_type": "stream",
     "text": [
      "planets closer than mars\n",
      "['mercury', 'venus', 'earth']\n",
      "planets further than mars\n",
      "['jupiter', 'saturn', 'neptune']\n"
     ]
    }
   ],
   "source": [
    "planets = ['mercury', 'venus', 'earth', 'mars', 'jupiter', 'saturn', 'neptune']\n",
    "\n",
    "planet = input('type in the name of a planet')\n",
    "\n",
    "planet = planet.lower()\n",
    "\n",
    "i = planets.index(planet)\n",
    "\n",
    "print('planets closer than ' + planet)\n",
    "print(planets[0:i])\n",
    "\n",
    "print('planets further than ' + planet)\n",
    "print(planets[i + 1:])\n"
   ]
  }
 ],
 "metadata": {
  "interpreter": {
   "hash": "d9af94fa3f53289e9b40da306142eacaa19dcbfc76f57ac70901f33df9e4395b"
  },
  "kernelspec": {
   "display_name": "Python 3.10.2 64-bit",
   "language": "python",
   "name": "python3"
  },
  "language_info": {
   "codemirror_mode": {
    "name": "ipython",
    "version": 3
   },
   "file_extension": ".py",
   "mimetype": "text/x-python",
   "name": "python",
   "nbconvert_exporter": "python",
   "pygments_lexer": "ipython3",
   "version": "3.10.2"
  },
  "orig_nbformat": 4
 },
 "nbformat": 4,
 "nbformat_minor": 2
}
