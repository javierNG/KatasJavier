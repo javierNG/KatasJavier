{
 "cells": [
  {
   "cell_type": "code",
   "execution_count": 7,
   "metadata": {},
   "outputs": [
    {
     "name": "stdout",
     "output_type": "stream",
     "text": [
      "Mars has 42 moons\n",
      "Mars has 42 moons and a polar circunference 6752\n"
     ]
    }
   ],
   "source": [
    "planets = {\n",
    "    'name': 'Mars',\n",
    "    'moons': 42\n",
    "}\n",
    "\n",
    "\n",
    "\n",
    "print(planets[\"name\"]+' has '+str(planets[\"moons\"])+' moons')\n",
    "\n",
    "\n",
    "planets['circunference'] = {\n",
    "    'polar': 6752,\n",
    "    'equatorial': 6792\n",
    "}\n",
    "\n",
    "print(planets[\"name\"]+' has '+str(planets[\"moons\"])+' moons and a polar circunference '+ str(planets['circunference']['polar']))\n",
    "\n"
   ]
  },
  {
   "cell_type": "code",
   "execution_count": 9,
   "metadata": {},
   "outputs": [
    {
     "name": "stdout",
     "output_type": "stream",
     "text": [
      "214\n",
      "17.833333333333332\n"
     ]
    }
   ],
   "source": [
    "# Planets and moons\n",
    "\n",
    "planet_moons = {\n",
    "    'mercury': 0,\n",
    "    'venus': 0,\n",
    "    'earth': 1,\n",
    "    'mars': 2,\n",
    "    'jupiter': 79,\n",
    "    'saturn': 82,\n",
    "    'uranus': 27,\n",
    "    'neptune': 14,\n",
    "    'pluto': 5,\n",
    "    'haumea': 2,\n",
    "    'makemake': 1,\n",
    "    'eris': 1\n",
    "}\n",
    "\n",
    "\n",
    "moons = planet_moons.values()\n",
    "planets = planet_moons.keys()\n",
    "\n",
    "total = 0\n",
    "for moon_num in moons:\n",
    "    total+=moon_num\n",
    "\n",
    "print(total)\n",
    "\n",
    "average_moons = total/len(planets)\n",
    "\n",
    "print(average_moons)\n"
   ]
  }
 ],
 "metadata": {
  "interpreter": {
   "hash": "d9af94fa3f53289e9b40da306142eacaa19dcbfc76f57ac70901f33df9e4395b"
  },
  "kernelspec": {
   "display_name": "Python 3.10.2 64-bit",
   "language": "python",
   "name": "python3"
  },
  "language_info": {
   "codemirror_mode": {
    "name": "ipython",
    "version": 3
   },
   "file_extension": ".py",
   "mimetype": "text/x-python",
   "name": "python",
   "nbconvert_exporter": "python",
   "pygments_lexer": "ipython3",
   "version": "3.10.2"
  },
  "orig_nbformat": 4
 },
 "nbformat": 4,
 "nbformat_minor": 2
}
