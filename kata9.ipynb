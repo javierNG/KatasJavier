{
 "cells": [
  {
   "cell_type": "code",
   "execution_count": 12,
   "metadata": {},
   "outputs": [
    {
     "name": "stdout",
     "output_type": "stream",
     "text": [
      "Tank Report:\n",
      "    Tank1 : 10%\n",
      "    Tank2 : 20%\n",
      "    Tank3 : 30% \n",
      "    \n",
      "    Gas total Average: 20.0%\n",
      "    \n",
      "20.0\n"
     ]
    }
   ],
   "source": [
    "def tank_report(tank1, tank2, tank3):\n",
    "    return f'''Tank Report:\n",
    "    Tank1 : {tank1}%\n",
    "    Tank2 : {tank2}%\n",
    "    Tank3 : {tank3}% \n",
    "    \n",
    "    Gas total Average: {average([tank1,tank2,tank3])}%\n",
    "    '''\n",
    "\n",
    "print(tank_report(10, 20, 30))\n",
    "\n",
    "\n",
    "def average(values):\n",
    "    sum = 0\n",
    "    for value in values:\n",
    "        sum+=value\n",
    "    return sum/len(values)\n",
    "\n",
    "print(average([10, 20, 30]))"
   ]
  },
  {
   "cell_type": "code",
   "execution_count": 20,
   "metadata": {},
   "outputs": [
    {
     "name": "stdout",
     "output_type": "stream",
     "text": [
      "\n",
      "    Mission to: Saturn\n",
      "    Launch time: 8:00am\n",
      "    flight time: 150 hrs\n",
      "    extern fuel: 100\n",
      "    intern tank: 80 \n",
      "    \n",
      "\n",
      "    Mission to: Saturn\n",
      "    Launch time: 8:00am\n",
      "    flight time: 10\n",
      "    fuel: 180 \n",
      "\n",
      "    \n",
      "\n",
      "    Mission to: Saturn\n",
      "    Launch time: 8:00am\n",
      "    flight time: 10\n",
      "    fuel by tank: \n",
      "    \textern has: 100 \n",
      "\tintern has: 80 \n",
      "\n",
      "    \n"
     ]
    }
   ],
   "source": [
    "def mission_report (prelaunch, flight_time, destination, extern_tank, intern_tank):\n",
    "    return f'''\n",
    "    Mission to: {destination}\n",
    "    Launch time: {prelaunch}\n",
    "    flight time: {flight_time}\n",
    "    extern fuel: {extern_tank}\n",
    "    intern tank: {intern_tank} \n",
    "    '''\n",
    "\n",
    "print(mission_report('8:00am','150 hrs','Saturn', 100, 80))\n",
    "\n",
    "\n",
    "def mission_report (prelaunch, destination, *minutes, **fuel_reservoirs):\n",
    "    return f'''\n",
    "    Mission to: {destination}\n",
    "    Launch time: {prelaunch}\n",
    "    flight time: {sum(minutes)}\n",
    "    fuel: {sum(fuel_reservoirs.values())} \\n\n",
    "    '''\n",
    "\n",
    "print(mission_report('8:00am','Saturn', 1,2,3,4, extern=100, intern=80))\n",
    "\n",
    "\n",
    "def name_tanks(tanks):\n",
    "    report =''\n",
    "    for name, fuel in tanks.items():\n",
    "        report+= f'\\t{name} has: {fuel} \\n'\n",
    "    return report\n",
    "\n",
    "def mission_report (prelaunch, destination, *minutes, **fuel_reservoirs):\n",
    "    return f'''\n",
    "    Mission to: {destination}\n",
    "    Launch time: {prelaunch}\n",
    "    flight time: {sum(minutes)}\n",
    "    fuel by tank: \n",
    "    {name_tanks(fuel_reservoirs)}\n",
    "    '''\n",
    "\n",
    "\n",
    "print(mission_report('8:00am','Saturn', 1,2,3,4, extern=100, intern=80))"
   ]
  }
 ],
 "metadata": {
  "interpreter": {
   "hash": "d9af94fa3f53289e9b40da306142eacaa19dcbfc76f57ac70901f33df9e4395b"
  },
  "kernelspec": {
   "display_name": "Python 3.10.2 64-bit",
   "language": "python",
   "name": "python3"
  },
  "language_info": {
   "codemirror_mode": {
    "name": "ipython",
    "version": 3
   },
   "file_extension": ".py",
   "mimetype": "text/x-python",
   "name": "python",
   "nbconvert_exporter": "python",
   "pygments_lexer": "ipython3",
   "version": "3.10.2"
  },
  "orig_nbformat": 4
 },
 "nbformat": 4,
 "nbformat_minor": 2
}
