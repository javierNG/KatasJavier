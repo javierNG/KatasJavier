{
 "cells": [
  {
   "cell_type": "code",
   "execution_count": 6,
   "metadata": {},
   "outputs": [
    {
     "name": "stdout",
     "output_type": "stream",
     "text": [
      "['jeje']\n"
     ]
    }
   ],
   "source": [
    "planet = ''\n",
    "planets = []\n",
    "\n",
    "\n",
    "while planet.upper() != 'DONE':\n",
    "    if planet:\n",
    "        planets.append(planet)\n",
    "    planet = input(\"Introducce new planet or \\\"DONE\\}\" to finish the session\")\n",
    "\n",
    "print(planets)"
   ]
  },
  {
   "cell_type": "code",
   "execution_count": 7,
   "metadata": {},
   "outputs": [
    {
     "name": "stdout",
     "output_type": "stream",
     "text": [
      "jeje\n"
     ]
    }
   ],
   "source": [
    "for p in planets:\n",
    "    print (p)"
   ]
  }
 ],
 "metadata": {
  "interpreter": {
   "hash": "d9af94fa3f53289e9b40da306142eacaa19dcbfc76f57ac70901f33df9e4395b"
  },
  "kernelspec": {
   "display_name": "Python 3.10.2 64-bit",
   "language": "python",
   "name": "python3"
  },
  "language_info": {
   "codemirror_mode": {
    "name": "ipython",
    "version": 3
   },
   "file_extension": ".py",
   "mimetype": "text/x-python",
   "name": "python",
   "nbconvert_exporter": "python",
   "pygments_lexer": "ipython3",
   "version": "3.10.2"
  },
  "orig_nbformat": 4
 },
 "nbformat": 4,
 "nbformat_minor": 2
}
