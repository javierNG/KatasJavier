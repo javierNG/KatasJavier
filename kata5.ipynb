{
 "cells": [
  {
   "cell_type": "code",
   "execution_count": 8,
   "metadata": {},
   "outputs": [
    {
     "name": "stdout",
     "output_type": "stream",
     "text": [
      "628949330\n",
      "390577533.93\n"
     ]
    }
   ],
   "source": [
    "planet1 = 149597870\n",
    "planet2 = 778547200\n",
    "\n",
    "distance = planet2 - planet1\n",
    "print(distance)\n",
    "\n",
    "print(distance * 0.621)"
   ]
  },
  {
   "cell_type": "code",
   "execution_count": 10,
   "metadata": {},
   "outputs": [
    {
     "name": "stdout",
     "output_type": "stream",
     "text": [
      "10\n",
      "6.21\n"
     ]
    }
   ],
   "source": [
    "planet1 = input(\"type in the distance to the sun of planet 1\")\n",
    "planet2 = input(\"type in the distance to the sun of planet 2\")\n",
    "\n",
    "\n",
    "planet2 = int(planet2)\n",
    "planet1 = int(planet1)\n",
    "\n",
    "\n",
    "distance = planet2 - planet1\n",
    "print(distance)\n",
    "\n",
    "print(abs(distance*0.621))"
   ]
  }
 ],
 "metadata": {
  "interpreter": {
   "hash": "d9af94fa3f53289e9b40da306142eacaa19dcbfc76f57ac70901f33df9e4395b"
  },
  "kernelspec": {
   "display_name": "Python 3.10.2 64-bit",
   "language": "python",
   "name": "python3"
  },
  "language_info": {
   "codemirror_mode": {
    "name": "ipython",
    "version": 3
   },
   "file_extension": ".py",
   "mimetype": "text/x-python",
   "name": "python",
   "nbconvert_exporter": "python",
   "pygments_lexer": "ipython3",
   "version": "3.10.2"
  },
  "orig_nbformat": 4
 },
 "nbformat": 4,
 "nbformat_minor": 2
}
