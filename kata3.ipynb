{
 "cells": [
  {
   "cell_type": "code",
   "execution_count": 3,
   "metadata": {},
   "outputs": [
    {
     "name": "stdout",
     "output_type": "stream",
     "text": [
      "World is under risk, launch the rockets\n"
     ]
    }
   ],
   "source": [
    "ast = 49\n",
    "if ast <= 25:\n",
    "    print('No problem!')\n",
    "else:\n",
    "    print('World is under risk, launch the rockets')\n"
   ]
  },
  {
   "cell_type": "code",
   "execution_count": 1,
   "metadata": {},
   "outputs": [
    {
     "name": "stdout",
     "output_type": "stream",
     "text": [
      "Asteroid is not visible now\n"
     ]
    }
   ],
   "source": [
    "ast = 19\n",
    "if ast >= 20:\n",
    "    print('Asteriod is visible from earth')\n",
    "else:\n",
    "    print('Asteroid is not visible this time')"
   ]
  },
  {
   "cell_type": "code",
   "execution_count": 9,
   "metadata": {},
   "outputs": [
    {
     "name": "stdout",
     "output_type": "stream",
     "text": [
      "There is an asteroid in the sky\n"
     ]
    }
   ],
   "source": [
    "vel = 20\n",
    "size = 25\n",
    "if size >= 1000:\n",
    "    print('We have a big trouble with an asteroid')\n",
    "elif vel > 25 or (size > 25  and size < 1000):\n",
    "    print('There is an asteroid approaching to the earth')\n",
    "elif vel >= 20:\n",
    "    print('There is an asteroid in the sky')\n",
    "else:\n",
    "    print('Not a problem')"
   ]
  }
 ],
 "metadata": {
  "interpreter": {
   "hash": "d9af94fa3f53289e9b40da306142eacaa19dcbfc76f57ac70901f33df9e4395b"
  },
  "kernelspec": {
   "display_name": "Python 3.10.2 64-bit",
   "language": "python",
   "name": "python3"
  },
  "language_info": {
   "codemirror_mode": {
    "name": "ipython",
    "version": 3
   },
   "file_extension": ".py",
   "mimetype": "text/x-python",
   "name": "python",
   "nbconvert_exporter": "python",
   "pygments_lexer": "ipython3",
   "version": "3.10.2"
  },
  "orig_nbformat": 4
 },
 "nbformat": 4,
 "nbformat_minor": 2
}
